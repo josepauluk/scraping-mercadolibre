{
 "cells": [
  {
   "cell_type": "markdown",
   "metadata": {},
   "source": [
    "https://www.youtube.com/watch?v=kQxwP_GtdQY"
   ]
  },
  {
   "cell_type": "code",
   "execution_count": 29,
   "metadata": {},
   "outputs": [],
   "source": [
    "import requests\n",
    "from bs4 import BeautifulSoup\n",
    "from lxml import etree"
   ]
  },
  {
   "cell_type": "code",
   "execution_count": 10,
   "metadata": {},
   "outputs": [],
   "source": [
    "r = requests.get('https://listado.mercadolibre.com.ar/pc')"
   ]
  },
  {
   "cell_type": "code",
   "execution_count": 11,
   "metadata": {},
   "outputs": [
    {
     "data": {
      "text/plain": [
       "200"
      ]
     },
     "execution_count": 11,
     "metadata": {},
     "output_type": "execute_result"
    }
   ],
   "source": [
    "r.status_code"
   ]
  },
  {
   "cell_type": "code",
   "execution_count": 13,
   "metadata": {},
   "outputs": [],
   "source": [
    "soup = BeautifulSoup(r.content, 'html.parser')"
   ]
  },
  {
   "cell_type": "code",
   "execution_count": 14,
   "metadata": {},
   "outputs": [],
   "source": [
    "titulos = soup.find_all('h2', class_='ui-search-item__title')"
   ]
  },
  {
   "cell_type": "code",
   "execution_count": 17,
   "metadata": {},
   "outputs": [],
   "source": [
    "titulos = [i.text for i in titulos]"
   ]
  },
  {
   "cell_type": "code",
   "execution_count": 24,
   "metadata": {},
   "outputs": [],
   "source": [
    "urls = soup.find_all('a', attrs={\"class\":\"ui-search-item__group__element ui-search-link__title-card ui-search-link\"})"
   ]
  },
  {
   "cell_type": "code",
   "execution_count": 27,
   "metadata": {},
   "outputs": [],
   "source": [
    "# urls[0].get('href')\n",
    "urls = [i.get('href') for i in urls] "
   ]
  },
  {
   "cell_type": "code",
   "execution_count": 28,
   "metadata": {},
   "outputs": [
    {
     "data": {
      "text/plain": [
       "['https://www.mercadolibre.com.ar/microprocesador-pc-amd-ryzen-5-4600g-8mb-37ghz-socket-am4-100-100000147box-6-nucleos-12-hilos/p/MLA19470792?pdp_filters=category:MLA1649#searchVariation=MLA19470792&position=2&search_layout=grid&type=product&tracking_id=2f9c86c1-c4d4-4515-97fd-3d70b5655f6b',\n",
       " 'https://articulo.mercadolibre.com.ar/MLA-900114345-pc-armada-dual-core-8g-ssd240-gab-kit-wi-fi-w10-_JM#position=3&search_layout=grid&type=item&tracking_id=2f9c86c1-c4d4-4515-97fd-3d70b5655f6b',\n",
       " 'https://articulo.mercadolibre.com.ar/MLA-860966940-computadora-cpu-armada-intel-core-i5-8-gb-240-gb-ssd-_JM#position=4&search_layout=grid&type=item&tracking_id=2f9c86c1-c4d4-4515-97fd-3d70b5655f6b',\n",
       " 'https://www.mercadolibre.com.ar/computadora-de-escritorio-intel-i5/p/MLA33802786?pdp_filters=category:MLA1649#searchVariation=MLA33802786&position=1&search_layout=grid&type=product&tracking_id=2f9c86c1-c4d4-4515-97fd-3d70b5655f6b',\n",
       " 'https://articulo.mercadolibre.com.ar/MLA-869964174-pc-armada-gamer-amd-athlon-3000g-ssd-240-8gb-radeon-rx-vega-_JM#position=5&search_layout=grid&type=item&tracking_id=2f9c86c1-c4d4-4515-97fd-3d70b5655f6b',\n",
       " 'https://articulo.mercadolibre.com.ar/MLA-1262608379-pc-gamer-amd-ryzen-3-3200g-16gb-ddr4-ssd-240gb-500w-acuario-_JM#position=6&search_layout=grid&type=item&tracking_id=2f9c86c1-c4d4-4515-97fd-3d70b5655f6b',\n",
       " 'https://articulo.mercadolibre.com.ar/MLA-1207105350-pc-armada-gamer-amd-ryzen-5-5600g16gb480gboffwin10wifi-_JM#position=7&search_layout=grid&type=item&tracking_id=2f9c86c1-c4d4-4515-97fd-3d70b5655f6b',\n",
       " 'https://articulo.mercadolibre.com.ar/MLA-1140729562-pc-armada-gamer-cpu-amd-ryzen-5-4600g-16gb-ssd480g-vega-7-_JM#position=8&search_layout=grid&type=item&tracking_id=2f9c86c1-c4d4-4515-97fd-3d70b5655f6b',\n",
       " 'https://articulo.mercadolibre.com.ar/MLA-1169090990-computadora-completa-hp-dual-core-8gb-ram-lcd-17-_JM#position=9&search_layout=grid&type=item&tracking_id=2f9c86c1-c4d4-4515-97fd-3d70b5655f6b',\n",
       " 'https://click1.mercadolibre.com.ar/mclics/clicks/external/MLA/count?a=nfyDWAYMSN9QwnC%2B1U%2BNjpw0zAaakDNZpJG8s2FJpKEQJ4cp6Gvg5AL5z%2B1JqDA0qBmMo87TsfbSX7McXae6USPQkl5EmXdjIMDy4a8BNotysQ6p6CJ1ofGQDBjyeW2OyJ%2FDEIVe%2FFwVB%2BCHRScBmuiE%2B54VqOLOewzmXtvrYQCutEuWT1RJpJrThbBjzN1EzFCKDW8i5wRyYso6F%2FMDWXoQYBX6tbM6UjuNYD0lM57WS7ZmZtdzRtaY8PnW3MJ10Fr0h6q%2BCKo4TqwEulEJqtr9ydYpmQ8T4I5vvL5E985OC1wFZkORhIr%2B5AJZkNH0RMLR0BOX%2Bub%2BVeRtJkFm37tQwBfKeRMb%2BZqtqKb8q8KdT7jXhylUSeaxD5QKTGaXpCyTVjDlmEfgxKSotiaeAeBnpmCyMbdO4J85yQVf20iOt5Cgs6C9QuVvCyH0RrY7zAeLAkmjKyhS4CsWuZleAmAxli4R9gDnalcyLbNCybwl2HQEUkj4Ube1VaX30Be%2BLp07ACIlyLfti83et9BXc0pASXPFhyP25XEvqbUdcCOSXmz2f3lj6oBCBirYXW2R%2F7CNbfj7NHswuqpoKO271kg9Q9xPYLeWHZNKnVmQ6eZUO5igG7itCZ5H7h1sgTAb1fejzBcb6q73HZzqxY3Ff%2B5%2BzUCXBZFMC4qYF66Z7BXXwx2HimpdT7H0CTxCnBkRg4IjguVAs6HnmTBKGOQuJ8Kxh40Xhnyo2fk%3D&e=mclics%2Fpseudo-search-pads-buybox%2B7708%2Cmclics%2Fsearch-list-ad-algorithm%2BDEFAULT%2Cmclics%2Fbuybox-layout%2B25349%2Cmclics%2Fmax-bid-capped%2B36382&rb=x',\n",
       " 'https://click1.mercadolibre.com.ar/mclics/clicks/external/MLA/count?a=tvBZZvrGSnJQ85HmsPMamZBTiPIJQlwVJvBr9MH3N2aKru5IgzBXlPAofqUxOZjMhg%2FILg0jQsblmz4tZzXSKmRFqQdrQpcsK2NDoofN4WoIbS%2FhRY6QSsdagrQgISFmK%2BL7CUy4j2oi2FAVXQlO%2FHiDpJT6I3k2H6ja%2FX%2FLJYaferOE1SCmtQHRLPuSE7MDsz6vxjOZ9OEvcTOLXHGcC5QOjy6PYBaOe5EQAQwTw5xiGNQqEGtcEBjYwqkhOiq%2FPM2R86Iol8TT4qjIwZqu5puk0hx1g6zPZqTwj%2FicYdGPEl%2Fap%2BK%2BCg52jVX07iPdVOuJoxYfjhwgZWRqzKOFuDskZV%2B19yYUsLCUXqKUTQ5SHr5jNpHb52F%2BbEdPQbyZg78G4I5SNOhAE8BqUcjmUldxsaNUmMC%2BB2vXwj%2Fn1OhwDJvYSG8oydyzRuijPtJdPd8oSLZOuSNTMo7MkpHlJWabWFWAAzwkZF6ydL7muz7swqmW7R3mHWCkFEYL4cdDI4Sb2%2FDrUhJi2blEo%2BFZxMiYHwltVpaqYXvMXbhCqjKer9sU8Dm2YNKAQzxab6BtipKmcYKZNxgh6yoHGOulbHe1d4yc8UONSJIGj5EpwrQiSEsxtQUQYc42vtSM2MeCUztvjEeTeOKkrGdVur6JXhrZiD3ciXYEhOEiDQcvFI4bARmA%2BCKArnCKiKmB43bP3DwLccg1KLcMbZ8gFpICvOKpJbeoxnTLduBZ&e=mclics%2Fpseudo-search-pads-buybox%2B7708%2Cmclics%2Fsearch-list-ad-algorithm%2BDEFAULT%2Cmclics%2Fbuybox-layout%2B25349%2Cmclics%2Fmax-bid-capped%2B36382&rb=x',\n",
       " 'https://click1.mercadolibre.com.ar/mclics/clicks/external/MLA/count?a=i13PcDCUHIu5KgOxwBvn0CqiQyik481xZMDcd695deOJ7WQKl7xIGD77wt9lteyH0B6LVdZcoaEFEOOyLdB2XBwdWNP3omeOT3P0G7P6OH31UJBQXVxltDT8O4wHjk5irrtSq96LEaomyUKtNcu%2FYEG8FdB4TNV1mLhFSob3wTI0luZHKx1iOeAxZ5Vxw%2BMdaeuP5hWAUawgW9AdRH65CvL7keoiBBsKvJ%2FNvxYLUuFcUrZtIG6QIrpzdz%2BWgDX%2FJzXhP%2FARKJ%2F62uVQ%2F3rBKRL6gMyNpqUA%2BYrwTjw%2BbwLBCzx59y1XFqPso4SFPfw6Y24%2F7kJvHZtZni2g0BHOczcM7CW2X92f5oBLc01%2FL66d93bNiS%2B7Epr%2BFKtIq6uuzvEUCwUAn5R%2B82VcIARbe6lvB89zkHB39ZJ3GleOD8WFf%2BZcRcSvginsVLE2er9%2F5YiiPnmMJ6iTQ1jmDTZx%2BwqSBVHJI8OPNdR1jWK27I%2BOtzozlVx4LQnTHJGLWDvp8BOyMXl4%2B4SMgVz6ab4NC3ZE76WSqXfnrwukXfFKe01s22P5%2FWZ9fkQfGorhh6vSusPjDJ9Ykw4fVgI1ObJbPSzft%2Bn8rzVDHss4CSNDsLn2X4S%2B2kRJx8uEaoGYI0orUwsljfmu44Pg1c1UGh5Q2vXZHdvnuORMckjHB8x7hjE3aHsZfI6P1oEd3R0t6%2BViOdgZpMusbSPd2F19Zi7CsGgez8ANtGVdV6wd&e=mclics%2Fpseudo-search-pads-buybox%2B7708%2Cmclics%2Fsearch-list-ad-algorithm%2BDEFAULT%2Cmclics%2Fbuybox-layout%2B25349%2Cmclics%2Fmax-bid-capped%2B36382&rb=x',\n",
       " 'https://articulo.mercadolibre.com.ar/MLA-1109523234-pc-armada-gamer-amd-ryzen-5-5600g-612-nucleos-16gb-juego-_JM#position=13&search_layout=grid&type=item&tracking_id=2f9c86c1-c4d4-4515-97fd-3d70b5655f6b',\n",
       " 'https://articulo.mercadolibre.com.ar/MLA-830034511-computadora-completa-intel-core-2-duo-4gb-wifilcd-17-vuela-_JM#position=14&search_layout=grid&type=item&tracking_id=2f9c86c1-c4d4-4515-97fd-3d70b5655f6b',\n",
       " 'https://articulo.mercadolibre.com.ar/MLA-930129754-pc-armada-intel-c-i3-8-gb-ram-ssd-240-gab-kit-w10-offic-_JM#position=15&search_layout=grid&type=item&tracking_id=2f9c86c1-c4d4-4515-97fd-3d70b5655f6b',\n",
       " 'https://articulo.mercadolibre.com.ar/MLA-1117996599-pc-gamer-fornite-dota-2lolcsgo-amd-a8-8gb-ramssd240-_JM#position=16&search_layout=grid&type=item&tracking_id=2f9c86c1-c4d4-4515-97fd-3d70b5655f6b',\n",
       " 'https://articulo.mercadolibre.com.ar/MLA-874819289-pc-armada-intel-core-i5-8gb-ssd240-w10-office-_JM#position=17&search_layout=grid&type=item&tracking_id=2f9c86c1-c4d4-4515-97fd-3d70b5655f6b',\n",
       " 'https://articulo.mercadolibre.com.ar/MLA-1163098912-pc-gamer-armada-amd-ryzen-5-5600g-612-nucleos-16gb-ssd480-_JM#position=18&search_layout=grid&type=item&tracking_id=2f9c86c1-c4d4-4515-97fd-3d70b5655f6b',\n",
       " 'https://articulo.mercadolibre.com.ar/MLA-1115174636-computadora-cpu-armada-intel-core-i5-16-gb-480-gb-ssd-_JM#position=19&search_layout=grid&type=item&tracking_id=2f9c86c1-c4d4-4515-97fd-3d70b5655f6b',\n",
       " 'https://articulo.mercadolibre.com.ar/MLA-1109540842-pc-armada-i7-16-gigas-ssd-240-gab-wi-fi-teclado-y-mouse-_JM#position=20&search_layout=grid&type=item&tracking_id=2f9c86c1-c4d4-4515-97fd-3d70b5655f6b',\n",
       " 'https://articulo.mercadolibre.com.ar/MLA-1623232332-pc-cpu-computadora-core-i3-4gb-500hdd-hdmi-outlet-_JM#position=21&search_layout=grid&type=item&tracking_id=2f9c86c1-c4d4-4515-97fd-3d70b5655f6b',\n",
       " 'https://articulo.mercadolibre.com.ar/MLA-825910493-pc-armada-gamer-amd-ryzen-5-4600g-ram-16gb-radeon-vega-hdmi-_JM#position=22&search_layout=grid&type=item&tracking_id=2f9c86c1-c4d4-4515-97fd-3d70b5655f6b',\n",
       " 'https://articulo.mercadolibre.com.ar/MLA-1447415460-computadora-completa-intel-core-i5-16-gb-480-ssd-monitor-19-_JM#position=23&search_layout=grid&type=item&tracking_id=2f9c86c1-c4d4-4515-97fd-3d70b5655f6b',\n",
       " 'https://articulo.mercadolibre.com.ar/MLA-1138510067-pc-gamer-ryzen-5-4600g-a320m-8gb-ssd-240gb-gabinete-kit-_JM#position=24&search_layout=grid&type=item&tracking_id=2f9c86c1-c4d4-4515-97fd-3d70b5655f6b',\n",
       " 'https://articulo.mercadolibre.com.ar/MLA-859444610-pc-armada-intel-core-i5-1tb-8gb-ram-gabinete-oulet-w-10-of-_JM#position=25&search_layout=grid&type=item&tracking_id=2f9c86c1-c4d4-4515-97fd-3d70b5655f6b',\n",
       " 'https://articulo.mercadolibre.com.ar/MLA-1408940684-pc-cpu-computadora-intel-core-i5-16gb-ram-ssd-480gb-_JM#position=26&search_layout=grid&type=item&tracking_id=2f9c86c1-c4d4-4515-97fd-3d70b5655f6b',\n",
       " 'https://articulo.mercadolibre.com.ar/MLA-1116033468-pc-ar-completa-core-i5-8gb-ssd240-led-19-wi-fi-w10-office-_JM#position=27&search_layout=grid&type=item&tracking_id=2f9c86c1-c4d4-4515-97fd-3d70b5655f6b',\n",
       " 'https://articulo.mercadolibre.com.ar/MLA-1296991485-pc-armada-intel-core-i5-8gb-ssd-480-gab-tec-y-mouse-w11-_JM#position=28&search_layout=grid&type=item&tracking_id=2f9c86c1-c4d4-4515-97fd-3d70b5655f6b',\n",
       " 'https://articulo.mercadolibre.com.ar/MLA-1175048153-computadora-cpu-armada-intel-core-i7-16-gb-480-ssd-_JM#position=29&search_layout=grid&type=item&tracking_id=2f9c86c1-c4d4-4515-97fd-3d70b5655f6b',\n",
       " 'https://articulo.mercadolibre.com.ar/MLA-1140736171-pc-armada-gamer-cpu-amd-ryzen-5-4600g-16gb-vega-7-ver20-_JM#position=30&search_layout=grid&type=item&tracking_id=2f9c86c1-c4d4-4515-97fd-3d70b5655f6b',\n",
       " 'https://articulo.mercadolibre.com.ar/MLA-1108430860-pc-armada-core-i3-8g-ssd240-gabinete-oulet-w10-oficc-_JM#position=31&search_layout=grid&type=item&tracking_id=2f9c86c1-c4d4-4515-97fd-3d70b5655f6b',\n",
       " 'https://articulo.mercadolibre.com.ar/MLA-1116709430-pc-armada-gamer-amd-ryzen-7-5700g-ram-32gb-960g-ssd-wifi-_JM#position=32&search_layout=grid&type=item&tracking_id=2f9c86c1-c4d4-4515-97fd-3d70b5655f6b',\n",
       " 'https://articulo.mercadolibre.com.ar/MLA-1442972228-computadora-completa-intel-core-i3-8-gb-240-ssd-monitor-19-_JM#position=33&search_layout=grid&type=item&tracking_id=2f9c86c1-c4d4-4515-97fd-3d70b5655f6b',\n",
       " 'https://articulo.mercadolibre.com.ar/MLA-733789228-pc-ar-dual-core-intel-4-g-ram-hd-500-kit-wi-fi-w-10-_JM#position=34&search_layout=grid&type=item&tracking_id=2f9c86c1-c4d4-4515-97fd-3d70b5655f6b',\n",
       " 'https://articulo.mercadolibre.com.ar/MLA-932293921-pc-armada-gamer-amd-ryzen-5-5600g-12-nucleo-ram-16gb-ssd-480-_JM#position=35&search_layout=grid&type=item&tracking_id=2f9c86c1-c4d4-4515-97fd-3d70b5655f6b',\n",
       " 'https://articulo.mercadolibre.com.ar/MLA-1140781393-pc-armada-gamer-cpu-amd-ryzen-5-4600g-16gb-vega-7-_JM#position=36&search_layout=grid&type=item&tracking_id=2f9c86c1-c4d4-4515-97fd-3d70b5655f6b',\n",
       " 'https://articulo.mercadolibre.com.ar/MLA-935712138-pc-gamer-amd-ryzen-5-5600g-16gb-a520m-ssd-240gb-_JM#position=37&search_layout=grid&type=item&tracking_id=2f9c86c1-c4d4-4515-97fd-3d70b5655f6b',\n",
       " 'https://articulo.mercadolibre.com.ar/MLA-1129907880-pc-cpu-completa-dell-core-i3-8-gb-500-gb-monitor-17-_JM#position=38&search_layout=grid&type=item&tracking_id=2f9c86c1-c4d4-4515-97fd-3d70b5655f6b',\n",
       " 'https://articulo.mercadolibre.com.ar/MLA-1232984960-computadora-pc-dell-o-hp-8gb-ram-ddr3-de-250-gb-sata-_JM#position=39&search_layout=grid&type=item&tracking_id=2f9c86c1-c4d4-4515-97fd-3d70b5655f6b',\n",
       " 'https://articulo.mercadolibre.com.ar/MLA-1116693853-pc-armada-hogar-oficina-intel-8gb-ram-ssd-240gb-_JM#position=40&search_layout=grid&type=item&tracking_id=2f9c86c1-c4d4-4515-97fd-3d70b5655f6b',\n",
       " 'https://articulo.mercadolibre.com.ar/MLA-1528233812-servidor-hp-dl380-g10-dual-xeon-gold-40-nucleos-128gb-2x500w-_JM#position=41&search_layout=grid&type=item&tracking_id=2f9c86c1-c4d4-4515-97fd-3d70b5655f6b',\n",
       " 'https://articulo.mercadolibre.com.ar/MLA-1437852542-pc-cpu-intel-core-i3-ddr3-8g-ram-ssd-240-kit-conectia-_JM#position=42&search_layout=grid&type=item&tracking_id=2f9c86c1-c4d4-4515-97fd-3d70b5655f6b',\n",
       " 'https://articulo.mercadolibre.com.ar/MLA-681768775-pc-armada-completa-cpu-computadora-i5-8gb-1tb-o-ssd-tareas-oficina-_JM#position=43&search_layout=grid&type=item&tracking_id=2f9c86c1-c4d4-4515-97fd-3d70b5655f6b',\n",
       " 'https://articulo.mercadolibre.com.ar/MLA-1382427535-computadora-completa-intel-core-i7-16-gb-480-ssd-led-22-_JM#position=44&search_layout=grid&type=item&tracking_id=2f9c86c1-c4d4-4515-97fd-3d70b5655f6b',\n",
       " 'https://articulo.mercadolibre.com.ar/MLA-1148578347-computadora-armada-cpu-core-i3-8-gb-ram-240gb-hdmi-_JM#position=45&search_layout=grid&type=item&tracking_id=2f9c86c1-c4d4-4515-97fd-3d70b5655f6b',\n",
       " 'https://articulo.mercadolibre.com.ar/MLA-927739661-pc-gamer-a10-9700-ddr4-8gb-ssd-240-radeongab-600w-_JM#position=46&search_layout=grid&type=item&tracking_id=2f9c86c1-c4d4-4515-97fd-3d70b5655f6b',\n",
       " 'https://articulo.mercadolibre.com.ar/MLA-1105307864-pc-ar-completa-core-i5-8gb-ssd240-led-20-wi-fi-w10-office-_JM#position=47&search_layout=grid&type=item&tracking_id=2f9c86c1-c4d4-4515-97fd-3d70b5655f6b',\n",
       " 'https://articulo.mercadolibre.com.ar/MLA-923743804-pc-cpu-computadora-intel-core-i5-8gb-ram-ssd-240gb-_JM#position=48&search_layout=grid&type=item&tracking_id=2f9c86c1-c4d4-4515-97fd-3d70b5655f6b',\n",
       " 'https://articulo.mercadolibre.com.ar/MLA-741435809-pc-ar-intel-core-i5-6-generacion-8-g-ddr4-ssd-240-gab-_JM#position=49&search_layout=grid&type=item&tracking_id=2f9c86c1-c4d4-4515-97fd-3d70b5655f6b',\n",
       " 'https://articulo.mercadolibre.com.ar/MLA-1437419094-pc-armada-gamer-amd-ryzen-3-3200g-8gb-ram-240g-ssd-_JM#position=50&search_layout=grid&type=item&tracking_id=2f9c86c1-c4d4-4515-97fd-3d70b5655f6b',\n",
       " 'https://articulo.mercadolibre.com.ar/MLA-1140741426-pc-armada-gamer-cpu-amd-ryzen-5-5600g-16gb-vega-7-m2-480g-_JM#position=51&search_layout=grid&type=item&tracking_id=2f9c86c1-c4d4-4515-97fd-3d70b5655f6b']"
      ]
     },
     "execution_count": 28,
     "metadata": {},
     "output_type": "execute_result"
    }
   ],
   "source": [
    "urls"
   ]
  },
  {
   "cell_type": "code",
   "execution_count": null,
   "metadata": {},
   "outputs": [],
   "source": [
    "# //li[@class=\"ui-search-layout__item\"]//a[@class=\"ui-search-item__group__element ui-search-link__title-card ui-search-link\"]/@href\n",
    "dom = etree.HTML(str(soup))\n",
    "precios = dom.xpath('')"
   ]
  }
 ],
 "metadata": {
  "kernelspec": {
   "display_name": "Python 3",
   "language": "python",
   "name": "python3"
  },
  "language_info": {
   "codemirror_mode": {
    "name": "ipython",
    "version": 3
   },
   "file_extension": ".py",
   "mimetype": "text/x-python",
   "name": "python",
   "nbconvert_exporter": "python",
   "pygments_lexer": "ipython3",
   "version": "3.12.1"
  }
 },
 "nbformat": 4,
 "nbformat_minor": 2
}
